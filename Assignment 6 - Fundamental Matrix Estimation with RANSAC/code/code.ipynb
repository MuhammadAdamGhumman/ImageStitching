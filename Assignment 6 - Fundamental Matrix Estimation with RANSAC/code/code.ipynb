{
 "cells": [
  {
   "cell_type": "code",
   "execution_count": 4,
   "metadata": {},
   "outputs": [],
   "source": [
    "import numpy as np\n",
    "import pandas as pd\n",
    "import cv2\n",
    "\n",
    "import matplotlib\n",
    "#matplotlib.use('TkAgg')\n",
    "#%matplotlib\n",
    "import matplotlib\n",
    "matplotlib.use('TkAgg')\n",
    "import matplotlib.pyplot as plt\n",
    "import scipy\n",
    "import scipy.io as sio\n",
    "from sklearn.metrics import mean_squared_error \n",
    "from scipy.spatial.distance import cdist\n",
    "import random "
   ]
  },
  {
   "cell_type": "code",
   "execution_count": 5,
   "metadata": {},
   "outputs": [
    {
     "name": "stdout",
     "output_type": "stream",
     "text": [
      "[[ 1.0486 -0.3645]\n",
      " [-1.6851 -0.4004]\n",
      " [-0.9437 -0.42  ]\n",
      " [ 1.0682  0.0699]\n",
      " [ 0.6077 -0.0771]\n",
      " [ 1.2543 -0.6454]\n",
      " [-0.2709  0.8635]\n",
      " [-0.4571 -0.3645]\n",
      " [-0.7902  0.0307]\n",
      " [ 0.7318  0.6382]\n",
      " [-1.058   0.3312]\n",
      " [ 0.3464  0.3377]\n",
      " [ 0.3137  0.1189]\n",
      " [-0.431   0.0242]\n",
      " [-0.4799  0.292 ]\n",
      " [ 0.6109  0.083 ]\n",
      " [-0.4081  0.292 ]\n",
      " [-0.1109 -0.2992]\n",
      " [ 0.5129 -0.0575]\n",
      " [ 0.1406 -0.4527]]\n",
      "\n",
      "[[ 1.5706 -0.149   0.2598]\n",
      " [-1.5282  0.9695  0.3802]\n",
      " [-0.6821  1.2856  0.4078]\n",
      " [ 0.4124 -1.0201 -0.0915]\n",
      " [ 1.2095  0.2812 -0.128 ]\n",
      " [ 0.8819 -0.8481  0.5255]\n",
      " [-0.9442 -1.1583 -0.3759]\n",
      " [ 0.0415  1.3445  0.324 ]\n",
      " [-0.7975  0.3017 -0.0826]\n",
      " [-0.4329 -1.4151 -0.2774]\n",
      " [-1.1475 -0.0772 -0.2667]\n",
      " [-0.5149 -1.1784 -0.1401]\n",
      " [ 0.1993 -0.2854 -0.2114]\n",
      " [-0.432   0.2143 -0.1053]\n",
      " [-0.7481 -0.384  -0.2408]\n",
      " [ 0.8078 -0.1196 -0.2631]\n",
      " [-0.7605 -0.5792 -0.1936]\n",
      " [ 0.3237  0.797   0.217 ]\n",
      " [ 1.3089  0.5786 -0.1887]\n",
      " [ 1.2323  1.4421  0.4506]]\n"
     ]
    }
   ],
   "source": [
    "points_2d = np.loadtxt('../data/pts2d-norm-pic_a.txt')\n",
    "points_3d = np.loadtxt('../data/pts3d-norm.txt')\n",
    "\n",
    "print(points_2d)\n",
    "print(\"\")\n",
    "print(points_3d)"
   ]
  },
  {
   "cell_type": "code",
   "execution_count": 9,
   "metadata": {},
   "outputs": [],
   "source": [
    "def calculate_projection_matrix(points_2d, points_3d):\n",
    "    \"\"\"\n",
    "    To solve for the projection matrix. You need to set up a system of\n",
    "    equations using the corresponding 2D and 3D points:\n",
    "\n",
    "                                                      [ M11      [ u1\n",
    "                                                        M12        v1\n",
    "                                                        M13        .\n",
    "                                                        M14        .\n",
    "    [ X1 Y1 Z1 1 0  0  0  0 -u1*X1 -u1*Y1 -u1*Z1        M21        .\n",
    "      0  0  0  0 X1 Y1 Z1 1 -v1*X1 -v1*Y1 -v1*Z1        M22        .\n",
    "      .  .  .  . .  .  .  .    .     .      .       *   M23   =    .\n",
    "      Xn Yn Zn 1 0  0  0  0 -un*Xn -un*Yn -un*Zn        M24        .\n",
    "      0  0  0  0 Xn Yn Zn 1 -vn*Xn -vn*Yn -vn*Zn ]      M31        .\n",
    "                                                        M32        un\n",
    "                                                        M33 ]      vn ]\n",
    "\n",
    "    Then you can solve this using least squares with np.linalg.lstsq() or SVD.\n",
    "    Notice you obtain 2 equations for each corresponding 2D and 3D point\n",
    "    pair. To solve this, you need at least 6 point pairs.\n",
    "\n",
    "    Args:\n",
    "    -   points_2d: A numpy array of shape (N, 2)\n",
    "    -   points_2d: A numpy array of shape (N, 3)\n",
    "\n",
    "    Returns:\n",
    "    -   M: A numpy array of shape (3, 4) representing the projection matrix\n",
    "    \"\"\"\n",
    "\n",
    "    # Placeholder M matrix. It leads to a high residual. Your total residual\n",
    "    # should be less than 1.\n",
    "    M = np.asarray([[0.1768, 0.7018, 0.7948, 0.4613],\n",
    "                    [0.6750, 0.3152, 0.1136, 0.0480],\n",
    "                    [0.1020, 0.1725, 0.7244, 0.9932]])\n",
    "\n",
    "    ###########################################################################\n",
    "    # TODO: YOUR PROJECTION MATRIX CALCULATION CODE HERE\n",
    "    ###########################################################################\n",
    "\n",
    "    #raise NotImplementedError('`calculate_projection_matrix` function in ' +\n",
    "        #'`student_code.py` needs to be implemented')\n",
    "        \n",
    "    A = np.zeros([len(points_2d)*2, 12])\n",
    "\n",
    "    B = np.zeros([len(points_2d)*2, 1])\n",
    "\n",
    "    k = 0\n",
    "    for i in range(len(points_2d)):\n",
    "        A[i + k][0], A[i + k][1], A[i + k][2], A[i + k][3] = points_3d[i][0], points_3d[i][1], points_3d[i][2], 1\n",
    "        A[i + k][8], A[i + k][9], A[i + k][10], A[i + k][11] = points_2d[i][0]*points_3d[i][0], points_2d[i][0]*points_3d[i][1], points_2d[i][0]*points_3d[i][2], -points_2d[i][0]\n",
    "\n",
    "        A[i + k + 1][4], A[i + k + 1][5], A[i + k + 1][6], A[i + k + 1][7] = points_3d[i][0], points_3d[i][1], points_3d[i][2], 1\n",
    "        A[i + k + 1][8], A[i + k + 1][9], A[i + k + 1][10], A[i + k + 1][11] = points_2d[i][1]*points_3d[i][0], points_2d[i][1]*points_3d[i][1], points_2d[i][1]*points_3d[i][2], -points_2d[i][1]\n",
    "\n",
    "        B[i + k] = points_2d[i][0]\n",
    "\n",
    "        B[i + 1 + k] = points_2d[i][1]\n",
    "\n",
    "        k = k + 1\n",
    "\n",
    "    U, S, V = np.linalg.svd(A)\n",
    "    #print(V)\n",
    "\n",
    "    M = V[-1:12]\n",
    "    M = np.reshape(M, (3,4))\n",
    "\n",
    "    ###########################################################################\n",
    "    # END OF YOUR CODE\n",
    "    ###########################################################################\n",
    "\n",
    "    return M"
   ]
  },
  {
   "cell_type": "code",
   "execution_count": 10,
   "metadata": {},
   "outputs": [
    {
     "name": "stdout",
     "output_type": "stream",
     "text": [
      "The projection matrix is\n",
      " [[ 0.45827554 -0.29474237 -0.01395746  0.0040258 ]\n",
      " [-0.05085589 -0.0545847  -0.54105993 -0.05237592]\n",
      " [-0.10900958 -0.17834548  0.04426782  0.5968205 ]]\n"
     ]
    }
   ],
   "source": [
    "M = calculate_projection_matrix(points_2d, points_3d)\n",
    "\n",
    "print('The projection matrix is\\n', M)"
   ]
  },
  {
   "cell_type": "code",
   "execution_count": null,
   "metadata": {},
   "outputs": [],
   "source": []
  }
 ],
 "metadata": {
  "kernelspec": {
   "display_name": "Python [conda env:cv_course] *",
   "language": "python",
   "name": "conda-env-cv_course-py"
  },
  "language_info": {
   "codemirror_mode": {
    "name": "ipython",
    "version": 3
   },
   "file_extension": ".py",
   "mimetype": "text/x-python",
   "name": "python",
   "nbconvert_exporter": "python",
   "pygments_lexer": "ipython3",
   "version": "3.6.9"
  }
 },
 "nbformat": 4,
 "nbformat_minor": 2
}
