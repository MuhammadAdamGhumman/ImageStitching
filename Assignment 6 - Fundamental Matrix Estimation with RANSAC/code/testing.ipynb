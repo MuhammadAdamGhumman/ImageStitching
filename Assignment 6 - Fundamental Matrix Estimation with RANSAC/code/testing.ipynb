{
 "cells": [
  {
   "cell_type": "code",
   "execution_count": 65,
   "metadata": {},
   "outputs": [
    {
     "name": "stdout",
     "output_type": "stream",
     "text": [
      "The autoreload extension is already loaded. To reload it, use:\n",
      "  %reload_ext autoreload\n"
     ]
    }
   ],
   "source": [
    "%load_ext autoreload\n",
    "%autoreload 2\n",
    "\n",
    "import numpy as np\n",
    "import pandas as pd\n",
    "import cv2\n",
    "\n",
    "import matplotlib\n",
    "#matplotlib.use('TkAgg')\n",
    "#%matplotlib\n",
    "import matplotlib\n",
    "matplotlib.use('TkAgg')\n",
    "import matplotlib.pyplot as plt\n",
    "import scipy\n",
    "import scipy.io as sio\n",
    "from sklearn.metrics import mean_squared_error \n",
    "from scipy.spatial.distance import cdist\n",
    "import random \n",
    "from utils import *"
   ]
  },
  {
   "cell_type": "code",
   "execution_count": 74,
   "metadata": {},
   "outputs": [
    {
     "name": "stdout",
     "output_type": "stream",
     "text": [
      "[[880. 214.]\n",
      " [ 43. 203.]\n",
      " [270. 197.]\n",
      " [886. 347.]\n",
      " [745. 302.]\n",
      " [943. 128.]\n",
      " [476. 590.]\n",
      " [419. 214.]\n",
      " [317. 335.]\n",
      " [783. 521.]\n",
      " [235. 427.]\n",
      " [665. 429.]\n",
      " [655. 362.]\n",
      " [427. 333.]\n",
      " [412. 415.]\n",
      " [746. 351.]\n",
      " [434. 415.]\n",
      " [525. 234.]\n",
      " [716. 308.]\n",
      " [602. 187.]]\n",
      "\n",
      "[[ 731.  238.]\n",
      " [  22.  248.]\n",
      " [ 204.  230.]\n",
      " [ 903.  342.]\n",
      " [ 635.  316.]\n",
      " [ 867.  177.]\n",
      " [ 958.  572.]\n",
      " [ 328.  244.]\n",
      " [ 426.  386.]\n",
      " [1064.  470.]\n",
      " [ 480.  495.]\n",
      " [ 964.  419.]\n",
      " [ 695.  374.]\n",
      " [ 505.  372.]\n",
      " [ 645.  452.]\n",
      " [ 692.  359.]\n",
      " [ 712.  444.]\n",
      " [ 465.  263.]\n",
      " [ 591.  324.]\n",
      " [ 447.  213.]]\n"
     ]
    }
   ],
   "source": [
    "points_2d_pic_a = np.loadtxt('../data/pts2d-pic_a.txt')\n",
    "points_2d_pic_b = np.loadtxt('../data/pts2d-pic_b.txt')\n",
    "img_left = load_image('../data/pic_a.jpg')\n",
    "img_right = load_image('../data/pic_b.jpg')\n",
    "\n",
    "print(points_2d_pic_a)\n",
    "print(\"\")\n",
    "print(points_2d_pic_b)"
   ]
  },
  {
   "cell_type": "code",
   "execution_count": 93,
   "metadata": {},
   "outputs": [
    {
     "name": "stdout",
     "output_type": "stream",
     "text": [
      "[[-5.36532415e-07  8.83981093e-06 -9.07836099e-04]\n",
      " [ 7.90760078e-06  1.21382365e-06 -2.64366809e-02]\n",
      " [-1.88694534e-03  1.72419095e-02  1.00000000e+00]]\n"
     ]
    }
   ],
   "source": [
    "A = np.zeros([len(points_2d_pic_a), 9])\n",
    "for i in range(len(points_2d_pic_a)):\n",
    "    A[i][0] = points_2d_pic_a[i][0] * points_2d_pic_b[i][0]\n",
    "    A[i][1] = points_2d_pic_a[i][0] * points_2d_pic_b[i][1]\n",
    "    A[i][2] = points_2d_pic_a[i][0]\n",
    "    A[i][3] = points_2d_pic_a[i][1] * points_2d_pic_b[i][0]\n",
    "    A[i][4] = points_2d_pic_a[i][1] * points_2d_pic_b[i][1]\n",
    "    A[i][5] = points_2d_pic_a[i][1]\n",
    "    A[i][6] = points_2d_pic_b[i][0]\n",
    "    A[i][7] = points_2d_pic_b[i][1]\n",
    "    A[i][8] = 1\n",
    "\n",
    "U, S, V = np.linalg.svd(A)\n",
    "\n",
    "M = V[-1:9]\n",
    "M = np.reshape(M, (3,3))\n",
    "\n",
    "U1, S1, V1 = np.linalg.svd(M)\n",
    "S1[2] = 0\n",
    "F = U1.dot(np.diag(S1).dot(V1))\n",
    "F = F / np.max(F) #F[2, 2]\n",
    "print(F)"
   ]
  },
  {
   "cell_type": "code",
   "execution_count": 101,
   "metadata": {},
   "outputs": [],
   "source": [
    "this = 0.05\n",
    "\n",
    "this2 = 119\n",
    "\n",
    "if(np.absolute(this2) < this):\n",
    "    print(this2)"
   ]
  },
  {
   "cell_type": "code",
   "execution_count": null,
   "metadata": {},
   "outputs": [],
   "source": []
  }
 ],
 "metadata": {
  "kernelspec": {
   "display_name": "Python [conda env:cv_course] *",
   "language": "python",
   "name": "conda-env-cv_course-py"
  },
  "language_info": {
   "codemirror_mode": {
    "name": "ipython",
    "version": 3
   },
   "file_extension": ".py",
   "mimetype": "text/x-python",
   "name": "python",
   "nbconvert_exporter": "python",
   "pygments_lexer": "ipython3",
   "version": "3.6.9"
  }
 },
 "nbformat": 4,
 "nbformat_minor": 2
}
